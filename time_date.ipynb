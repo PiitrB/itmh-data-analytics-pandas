{
 "cells": [
  {
   "cell_type": "markdown",
   "id": "9407feae-20be-483d-9650-334937d90904",
   "metadata": {},
   "source": [
    "Na reprezentovanie času a dátumu v Pandas používame nasledujúce typy:\n",
    "\n",
    "- Date times(Timestamp) - dtype datetime64[ns]\n",
    "- Time deltas (Timedelta) - dtype timedelta64[ns]\n",
    "- Time spans (Period) - dtype period[freq]\n",
    "- Date offsets - toto je specialny typ"
   ]
  },
  {
   "cell_type": "code",
   "execution_count": 3,
   "id": "96b111ba-a49f-4675-b19d-953933560cd3",
   "metadata": {},
   "outputs": [],
   "source": [
    "import pandas as pd\n",
    "import numpy as np\n",
    "import matplotlib.pyplot as plt"
   ]
  },
  {
   "cell_type": "markdown",
   "id": "c66c66b6-847b-420d-8dce-958b8a2fb8ef",
   "metadata": {},
   "source": [
    "## Datetime\n",
    "sa pouziva na reprezentaciu datumu a casu v pythone. V pandase sa oznacuje pojmom timestamp ale python vie pracovat aj s objektami typu datetime."
   ]
  },
  {
   "cell_type": "markdown",
   "id": "61e76c11-eaf0-4e98-a92d-a727efaed239",
   "metadata": {},
   "source": [
    "Prečo?\n",
    "Python datetime objekt nepodporuje nanosekundy na rozdiel od pandas timestamp"
   ]
  },
  {
   "cell_type": "code",
   "execution_count": 4,
   "id": "b434629e-d4aa-4f49-8ed6-b4be513409ab",
   "metadata": {},
   "outputs": [
    {
     "name": "stdout",
     "output_type": "stream",
     "text": [
      "<class 'datetime.datetime'>\n"
     ]
    },
    {
     "data": {
      "text/plain": [
       "datetime.datetime(2022, 4, 8, 12, 15, 41, 142766)"
      ]
     },
     "execution_count": 4,
     "metadata": {},
     "output_type": "execute_result"
    }
   ],
   "source": [
    "from datetime import datetime as dt\n",
    "\n",
    "now = dt.now()\n",
    "print(type(now))\n",
    "# print(now.nanosecods) # <-- takato funkcia neexistuje, datetime podporuje len mikrosekundy\n",
    "now"
   ]
  },
  {
   "cell_type": "code",
   "execution_count": 5,
   "id": "e721304a-53bd-4757-a558-dd455c55210f",
   "metadata": {},
   "outputs": [
    {
     "data": {
      "text/plain": [
       "pandas._libs.tslibs.timestamps.Timestamp"
      ]
     },
     "execution_count": 5,
     "metadata": {},
     "output_type": "execute_result"
    }
   ],
   "source": [
    "#konverzia datetime to timestamp\n",
    "now_timestamp = pd.Timestamp(now)\n",
    "type(now_timestamp)"
   ]
  },
  {
   "cell_type": "code",
   "execution_count": 6,
   "id": "a530bdff-97c3-49ee-88fe-4bcef59d3542",
   "metadata": {},
   "outputs": [
    {
     "data": {
      "text/plain": [
       "0"
      ]
     },
     "execution_count": 6,
     "metadata": {},
     "output_type": "execute_result"
    }
   ],
   "source": [
    "now_timestamp.nanosecond"
   ]
  },
  {
   "cell_type": "markdown",
   "id": "0967544f-4a4c-4276-9a51-91915ae929bb",
   "metadata": {},
   "source": [
    "## Timestamp\n",
    "Pandasov timestamp je zalozeny na efektivnejsom datovom type numpy.datetime64. V pandase preto pracujeme s typom timestamp nie datetime !!!\n",
    "\n",
    "V pandase timestamp oznacuje jeden bod v case s nanosekundovou presnostou."
   ]
  },
  {
   "cell_type": "code",
   "execution_count": 7,
   "id": "7ecd8198-9c61-4e9f-9742-db7339b9c84f",
   "metadata": {},
   "outputs": [
    {
     "name": "stdout",
     "output_type": "stream",
     "text": [
      "2020-06-09 08:30:20.000079099\n",
      "<class 'pandas._libs.tslibs.timestamps.Timestamp'>\n"
     ]
    },
    {
     "data": {
      "text/plain": [
       "99"
      ]
     },
     "execution_count": 7,
     "metadata": {},
     "output_type": "execute_result"
    }
   ],
   "source": [
    "timestamp = pd.Timestamp(year=2020, month=6, day=9, hour=8, minute=30, second=20, microsecond=79, nanosecond=99)\n",
    "print(timestamp)\n",
    "print(type(timestamp))\n",
    "timestamp.nanosecond"
   ]
  },
  {
   "cell_type": "code",
   "execution_count": 8,
   "id": "af183c97-413a-4444-8dd3-98a883c0ba66",
   "metadata": {},
   "outputs": [
    {
     "name": "stdout",
     "output_type": "stream",
     "text": [
      "2019-08-01 00:00:00\n",
      "2020-06-09 12:00:00\n",
      "2020-06-09 00:00:00\n",
      "2020-08-09 13:45:00\n",
      "2020-01-01 14:00:00\n",
      "1970-01-01 00:00:00.000000300\n",
      "1970-01-01 00:00:01.513393355\n"
     ]
    }
   ],
   "source": [
    "print(pd.Timestamp('2019-8-1'))\n",
    "print(pd.Timestamp(2020, 6, 9, 12))\n",
    "print(pd.Timestamp('2020-06-09 00:00:00'))\n",
    "print(pd.Timestamp('August 9, 2020 13:45'))\n",
    "print(pd.Timestamp('2020-01-01T14'))\n",
    "print(pd.Timestamp(300)) # <--- number of seconds after UNIX epoch (January 1, 1970)\n",
    "print(pd.Timestamp(1513393355.5))"
   ]
  },
  {
   "cell_type": "code",
   "execution_count": 9,
   "id": "a8b4f6f0-7fb9-4bca-a823-2fad5d41abcd",
   "metadata": {},
   "outputs": [
    {
     "name": "stdout",
     "output_type": "stream",
     "text": [
      "<class 'pandas._libs.tslibs.nattype.NaTType'>\n"
     ]
    },
    {
     "data": {
      "text/plain": [
       "NaT"
      ]
     },
     "execution_count": 9,
     "metadata": {},
     "output_type": "execute_result"
    }
   ],
   "source": [
    "# Nan hodnota ma svoj specialny objekt \n",
    "nan_dt = pd.Timestamp(np.nan)\n",
    "print(type(nan_dt))\n",
    "nan_dt"
   ]
  },
  {
   "cell_type": "code",
   "execution_count": 11,
   "id": "8e96fdf3-6136-4f93-bf38-97b54eb31ae7",
   "metadata": {},
   "outputs": [
    {
     "data": {
      "text/plain": [
       "DatetimeIndex(['2022-04-08', '2022-04-09', '2022-04-10'], dtype='datetime64[ns]', freq='D')"
      ]
     },
     "execution_count": 11,
     "metadata": {},
     "output_type": "execute_result"
    }
   ],
   "source": [
    "sample_timestamps = pd.date_range(\"2022-04-08\", freq=\"D\", periods=3) #date_range funkcia vie vytvorit tzv Datetime index\n",
    "sample_timestamps"
   ]
  },
  {
   "cell_type": "code",
   "execution_count": 13,
   "id": "6f301098-e93a-4b84-8783-ce0353b5a14f",
   "metadata": {},
   "outputs": [
    {
     "data": {
      "text/html": [
       "<div>\n",
       "<style scoped>\n",
       "    .dataframe tbody tr th:only-of-type {\n",
       "        vertical-align: middle;\n",
       "    }\n",
       "\n",
       "    .dataframe tbody tr th {\n",
       "        vertical-align: top;\n",
       "    }\n",
       "\n",
       "    .dataframe thead th {\n",
       "        text-align: right;\n",
       "    }\n",
       "</style>\n",
       "<table border=\"1\" class=\"dataframe\">\n",
       "  <thead>\n",
       "    <tr style=\"text-align: right;\">\n",
       "      <th></th>\n",
       "      <th>time</th>\n",
       "    </tr>\n",
       "  </thead>\n",
       "  <tbody>\n",
       "    <tr>\n",
       "      <th>0</th>\n",
       "      <td>2022-04-08</td>\n",
       "    </tr>\n",
       "    <tr>\n",
       "      <th>1</th>\n",
       "      <td>2022-04-09</td>\n",
       "    </tr>\n",
       "    <tr>\n",
       "      <th>2</th>\n",
       "      <td>2022-04-10</td>\n",
       "    </tr>\n",
       "  </tbody>\n",
       "</table>\n",
       "</div>"
      ],
      "text/plain": [
       "        time\n",
       "0 2022-04-08\n",
       "1 2022-04-09\n",
       "2 2022-04-10"
      ]
     },
     "execution_count": 13,
     "metadata": {},
     "output_type": "execute_result"
    }
   ],
   "source": [
    "df = pd.DataFrame(sample_timestamps, columns=[\"time\"])\n",
    "df"
   ]
  },
  {
   "cell_type": "markdown",
   "id": "c139b4ba-04f4-41b8-a6e2-b4639cbb510d",
   "metadata": {},
   "source": [
    "## Časové pásma\n",
    "Timestamp vie pracovať aj s časovými pásmami. Defaultne spravanie je neznale o casovych pasmach ale v konstruktore vieme poslat hodnotu casoveho pasma z kniznice pytz"
   ]
  },
  {
   "cell_type": "code",
   "execution_count": 14,
   "id": "f220e185-e721-4397-bb46-3a9be4be5f67",
   "metadata": {},
   "outputs": [
    {
     "data": {
      "text/plain": [
       "594"
      ]
     },
     "execution_count": 14,
     "metadata": {},
     "output_type": "execute_result"
    }
   ],
   "source": [
    "import pytz\n",
    "len(pytz.all_timezones)"
   ]
  },
  {
   "cell_type": "code",
   "execution_count": 15,
   "id": "b7d28919-298b-4e88-b919-9a3d227b1e86",
   "metadata": {},
   "outputs": [
    {
     "data": {
      "text/plain": [
       "['Africa/Abidjan',\n",
       " 'Africa/Accra',\n",
       " 'Africa/Addis_Ababa',\n",
       " 'Africa/Algiers',\n",
       " 'Africa/Asmara',\n",
       " 'Africa/Asmera',\n",
       " 'Africa/Bamako',\n",
       " 'Africa/Bangui',\n",
       " 'Africa/Banjul',\n",
       " 'Africa/Bissau']"
      ]
     },
     "execution_count": 15,
     "metadata": {},
     "output_type": "execute_result"
    }
   ],
   "source": [
    "pytz.all_timezones[:10]"
   ]
  },
  {
   "cell_type": "code",
   "execution_count": 17,
   "id": "eefeaa04-70ac-4a86-b58a-17cd1dea670f",
   "metadata": {},
   "outputs": [
    {
     "data": {
      "text/plain": [
       "Timestamp('1970-01-01 01:00:01.565469465+0100', tz='Europe/Bratislava')"
      ]
     },
     "execution_count": 17,
     "metadata": {},
     "output_type": "execute_result"
    }
   ],
   "source": [
    "ts = pd.Timestamp(1565469465, tz=\"Europe/Bratislava\")\n",
    "ts"
   ]
  },
  {
   "cell_type": "code",
   "execution_count": 18,
   "id": "16fecb9e-5e6e-4acf-9b4c-da47275f5cc4",
   "metadata": {},
   "outputs": [
    {
     "data": {
      "text/plain": [
       "DatetimeIndex(['2022-04-08 00:00:00-01:00', '2022-04-09 00:00:00-01:00',\n",
       "               '2022-04-10 00:00:00-01:00', '2022-04-11 00:00:00-01:00',\n",
       "               '2022-04-12 00:00:00-01:00'],\n",
       "              dtype='datetime64[ns, Etc/GMT+1]', freq='D')"
      ]
     },
     "execution_count": 18,
     "metadata": {},
     "output_type": "execute_result"
    }
   ],
   "source": [
    "sample_timestamps = pd.date_range(\"2022-04-08\", freq=\"D\", periods=5, tz=\"Etc/GMT+1\") # pomocou funkcie daterange viem vytvorit takzvany  DatetimeIndex\n",
    "sample_timestamps"
   ]
  },
  {
   "cell_type": "code",
   "execution_count": 20,
   "id": "83a0f4ac-531f-4e98-a1d8-7e40215d69c4",
   "metadata": {},
   "outputs": [
    {
     "data": {
      "text/html": [
       "<div>\n",
       "<style scoped>\n",
       "    .dataframe tbody tr th:only-of-type {\n",
       "        vertical-align: middle;\n",
       "    }\n",
       "\n",
       "    .dataframe tbody tr th {\n",
       "        vertical-align: top;\n",
       "    }\n",
       "\n",
       "    .dataframe thead th {\n",
       "        text-align: right;\n",
       "    }\n",
       "</style>\n",
       "<table border=\"1\" class=\"dataframe\">\n",
       "  <thead>\n",
       "    <tr style=\"text-align: right;\">\n",
       "      <th></th>\n",
       "      <th>Time</th>\n",
       "    </tr>\n",
       "  </thead>\n",
       "  <tbody>\n",
       "    <tr>\n",
       "      <th>0</th>\n",
       "      <td>2022-04-08 00:00:00-01:00</td>\n",
       "    </tr>\n",
       "    <tr>\n",
       "      <th>1</th>\n",
       "      <td>2022-04-09 00:00:00-01:00</td>\n",
       "    </tr>\n",
       "    <tr>\n",
       "      <th>2</th>\n",
       "      <td>2022-04-10 00:00:00-01:00</td>\n",
       "    </tr>\n",
       "    <tr>\n",
       "      <th>3</th>\n",
       "      <td>2022-04-11 00:00:00-01:00</td>\n",
       "    </tr>\n",
       "    <tr>\n",
       "      <th>4</th>\n",
       "      <td>2022-04-12 00:00:00-01:00</td>\n",
       "    </tr>\n",
       "  </tbody>\n",
       "</table>\n",
       "</div>"
      ],
      "text/plain": [
       "                       Time\n",
       "0 2022-04-08 00:00:00-01:00\n",
       "1 2022-04-09 00:00:00-01:00\n",
       "2 2022-04-10 00:00:00-01:00\n",
       "3 2022-04-11 00:00:00-01:00\n",
       "4 2022-04-12 00:00:00-01:00"
      ]
     },
     "execution_count": 20,
     "metadata": {},
     "output_type": "execute_result"
    }
   ],
   "source": [
    "\n",
    "df = pd.DataFrame(sample_timestamps, columns=[\"Time\"])\n",
    "df"
   ]
  },
  {
   "cell_type": "code",
   "execution_count": 21,
   "id": "03693fad-e516-4906-9dfa-677f6db9a4f1",
   "metadata": {},
   "outputs": [
    {
     "data": {
      "text/html": [
       "<div>\n",
       "<style scoped>\n",
       "    .dataframe tbody tr th:only-of-type {\n",
       "        vertical-align: middle;\n",
       "    }\n",
       "\n",
       "    .dataframe tbody tr th {\n",
       "        vertical-align: top;\n",
       "    }\n",
       "\n",
       "    .dataframe thead th {\n",
       "        text-align: right;\n",
       "    }\n",
       "</style>\n",
       "<table border=\"1\" class=\"dataframe\">\n",
       "  <thead>\n",
       "    <tr style=\"text-align: right;\">\n",
       "      <th></th>\n",
       "      <th>timestamp</th>\n",
       "      <th>event</th>\n",
       "      <th>xpos</th>\n",
       "      <th>ypos</th>\n",
       "      <th>url</th>\n",
       "      <th>displayHeight</th>\n",
       "      <th>displayWidth</th>\n",
       "      <th>classOnly</th>\n",
       "      <th>expressed</th>\n",
       "      <th>relative</th>\n",
       "      <th>tagOnly</th>\n",
       "      <th>xpath</th>\n",
       "      <th>userId</th>\n",
       "      <th>task_id</th>\n",
       "    </tr>\n",
       "  </thead>\n",
       "  <tbody>\n",
       "    <tr>\n",
       "      <th>0</th>\n",
       "      <td>2018-11-13 09:39:52.794</td>\n",
       "      <td>mousemove</td>\n",
       "      <td>956.0</td>\n",
       "      <td>531.0</td>\n",
       "      <td>https://www.firotour.sk/#yeself3</td>\n",
       "      <td>4093.0</td>\n",
       "      <td>1903.0</td>\n",
       "      <td>NaN</td>\n",
       "      <td>NaN</td>\n",
       "      <td>html &gt; body &gt; div.body__wrapper:nth-child(10) ...</td>\n",
       "      <td>NaN</td>\n",
       "      <td>NaN</td>\n",
       "      <td>ZglodR</td>\n",
       "      <td>3</td>\n",
       "    </tr>\n",
       "    <tr>\n",
       "      <th>1</th>\n",
       "      <td>2018-11-13 09:39:52.813</td>\n",
       "      <td>mousemove</td>\n",
       "      <td>957.0</td>\n",
       "      <td>536.0</td>\n",
       "      <td>https://www.firotour.sk/#yeself3</td>\n",
       "      <td>4093.0</td>\n",
       "      <td>1903.0</td>\n",
       "      <td>NaN</td>\n",
       "      <td>NaN</td>\n",
       "      <td>html &gt; body &gt; div.body__wrapper:nth-child(10) ...</td>\n",
       "      <td>NaN</td>\n",
       "      <td>NaN</td>\n",
       "      <td>ZglodR</td>\n",
       "      <td>3</td>\n",
       "    </tr>\n",
       "    <tr>\n",
       "      <th>2</th>\n",
       "      <td>2018-11-13 09:39:52.840</td>\n",
       "      <td>mousemove</td>\n",
       "      <td>984.0</td>\n",
       "      <td>553.0</td>\n",
       "      <td>https://www.firotour.sk/#yeself3</td>\n",
       "      <td>4093.0</td>\n",
       "      <td>1903.0</td>\n",
       "      <td>NaN</td>\n",
       "      <td>NaN</td>\n",
       "      <td>html &gt; body &gt; div.body__wrapper:nth-child(10) ...</td>\n",
       "      <td>NaN</td>\n",
       "      <td>NaN</td>\n",
       "      <td>ZglodR</td>\n",
       "      <td>3</td>\n",
       "    </tr>\n",
       "    <tr>\n",
       "      <th>3</th>\n",
       "      <td>2018-11-13 09:39:54.800</td>\n",
       "      <td>mousemove</td>\n",
       "      <td>985.0</td>\n",
       "      <td>554.0</td>\n",
       "      <td>https://www.firotour.sk/#yeself3</td>\n",
       "      <td>4093.0</td>\n",
       "      <td>1903.0</td>\n",
       "      <td>NaN</td>\n",
       "      <td>NaN</td>\n",
       "      <td>html &gt; body &gt; div.body__wrapper:nth-child(10) ...</td>\n",
       "      <td>NaN</td>\n",
       "      <td>NaN</td>\n",
       "      <td>ZglodR</td>\n",
       "      <td>3</td>\n",
       "    </tr>\n",
       "    <tr>\n",
       "      <th>4</th>\n",
       "      <td>2018-11-13 09:39:54.867</td>\n",
       "      <td>mousemove</td>\n",
       "      <td>986.0</td>\n",
       "      <td>554.0</td>\n",
       "      <td>https://www.firotour.sk/#yeself3</td>\n",
       "      <td>4093.0</td>\n",
       "      <td>1903.0</td>\n",
       "      <td>NaN</td>\n",
       "      <td>NaN</td>\n",
       "      <td>html &gt; body &gt; div.body__wrapper:nth-child(10) ...</td>\n",
       "      <td>NaN</td>\n",
       "      <td>NaN</td>\n",
       "      <td>ZglodR</td>\n",
       "      <td>3</td>\n",
       "    </tr>\n",
       "  </tbody>\n",
       "</table>\n",
       "</div>"
      ],
      "text/plain": [
       "                 timestamp      event   xpos   ypos  \\\n",
       "0  2018-11-13 09:39:52.794  mousemove  956.0  531.0   \n",
       "1  2018-11-13 09:39:52.813  mousemove  957.0  536.0   \n",
       "2  2018-11-13 09:39:52.840  mousemove  984.0  553.0   \n",
       "3  2018-11-13 09:39:54.800  mousemove  985.0  554.0   \n",
       "4  2018-11-13 09:39:54.867  mousemove  986.0  554.0   \n",
       "\n",
       "                                url  displayHeight  displayWidth classOnly  \\\n",
       "0  https://www.firotour.sk/#yeself3         4093.0        1903.0       NaN   \n",
       "1  https://www.firotour.sk/#yeself3         4093.0        1903.0       NaN   \n",
       "2  https://www.firotour.sk/#yeself3         4093.0        1903.0       NaN   \n",
       "3  https://www.firotour.sk/#yeself3         4093.0        1903.0       NaN   \n",
       "4  https://www.firotour.sk/#yeself3         4093.0        1903.0       NaN   \n",
       "\n",
       "  expressed                                           relative tagOnly xpath  \\\n",
       "0       NaN  html > body > div.body__wrapper:nth-child(10) ...     NaN   NaN   \n",
       "1       NaN  html > body > div.body__wrapper:nth-child(10) ...     NaN   NaN   \n",
       "2       NaN  html > body > div.body__wrapper:nth-child(10) ...     NaN   NaN   \n",
       "3       NaN  html > body > div.body__wrapper:nth-child(10) ...     NaN   NaN   \n",
       "4       NaN  html > body > div.body__wrapper:nth-child(10) ...     NaN   NaN   \n",
       "\n",
       "   userId  task_id  \n",
       "0  ZglodR        3  \n",
       "1  ZglodR        3  \n",
       "2  ZglodR        3  \n",
       "3  ZglodR        3  \n",
       "4  ZglodR        3  "
      ]
     },
     "execution_count": 21,
     "metadata": {},
     "output_type": "execute_result"
    }
   ],
   "source": [
    "df =pd.read_csv(\"dataset/timestamps_dataset.csv\")\n",
    "df.head()"
   ]
  },
  {
   "cell_type": "code",
   "execution_count": 22,
   "id": "c1084bc3-32bd-4b36-9de5-27b50a238ffb",
   "metadata": {},
   "outputs": [
    {
     "data": {
      "text/plain": [
       "0        2018-11-13 09:39:52.794\n",
       "1        2018-11-13 09:39:52.813\n",
       "2        2018-11-13 09:39:52.840\n",
       "3        2018-11-13 09:39:54.800\n",
       "4        2018-11-13 09:39:54.867\n",
       "                  ...           \n",
       "10416    2018-11-13 10:00:36.872\n",
       "10417    2018-11-13 10:00:36.956\n",
       "10418    2018-11-13 10:00:36.989\n",
       "10419    2018-11-13 10:00:37.037\n",
       "10420    2018-11-13 10:00:37.054\n",
       "Name: timestamp, Length: 10421, dtype: object"
      ]
     },
     "execution_count": 22,
     "metadata": {},
     "output_type": "execute_result"
    }
   ],
   "source": [
    "df.timestamp"
   ]
  },
  {
   "cell_type": "code",
   "execution_count": 24,
   "id": "92b5f7db-41cd-4d63-9766-fc480676ecaf",
   "metadata": {},
   "outputs": [
    {
     "data": {
      "text/plain": [
       "0       2018-11-13 09:39:52.794\n",
       "1       2018-11-13 09:39:52.813\n",
       "2       2018-11-13 09:39:52.840\n",
       "3       2018-11-13 09:39:54.800\n",
       "4       2018-11-13 09:39:54.867\n",
       "                  ...          \n",
       "10416   2018-11-13 10:00:36.872\n",
       "10417   2018-11-13 10:00:36.956\n",
       "10418   2018-11-13 10:00:36.989\n",
       "10419   2018-11-13 10:00:37.037\n",
       "10420   2018-11-13 10:00:37.054\n",
       "Name: timestamp, Length: 10421, dtype: datetime64[ns]"
      ]
     },
     "execution_count": 24,
     "metadata": {},
     "output_type": "execute_result"
    }
   ],
   "source": [
    "df =pd.read_csv(\"dataset/timestamps_dataset.csv\", parse_dates=[\"timestamp\"])\n",
    "df.timestamp"
   ]
  },
  {
   "cell_type": "code",
   "execution_count": 25,
   "id": "7fe044a5-6aa1-44e2-bb20-ce3709ddfb2a",
   "metadata": {},
   "outputs": [
    {
     "data": {
      "text/plain": [
       "0        13\n",
       "1        13\n",
       "2        13\n",
       "3        13\n",
       "4        13\n",
       "         ..\n",
       "10416    13\n",
       "10417    13\n",
       "10418    13\n",
       "10419    13\n",
       "10420    13\n",
       "Name: timestamp, Length: 10421, dtype: int64"
      ]
     },
     "execution_count": 25,
     "metadata": {},
     "output_type": "execute_result"
    }
   ],
   "source": [
    "df.timestamp.dt.day"
   ]
  },
  {
   "cell_type": "code",
   "execution_count": 26,
   "id": "337543a4-90fb-4f44-8610-91970200811d",
   "metadata": {},
   "outputs": [
    {
     "data": {
      "text/plain": [
       "0        1\n",
       "1        1\n",
       "2        1\n",
       "3        1\n",
       "4        1\n",
       "        ..\n",
       "10416    1\n",
       "10417    1\n",
       "10418    1\n",
       "10419    1\n",
       "10420    1\n",
       "Name: timestamp, Length: 10421, dtype: int64"
      ]
     },
     "execution_count": 26,
     "metadata": {},
     "output_type": "execute_result"
    }
   ],
   "source": [
    "df.timestamp.dt.weekday"
   ]
  },
  {
   "cell_type": "markdown",
   "id": "2bc539b6-4502-4dbf-85a6-6b149edfbd80",
   "metadata": {},
   "source": [
    "## Time Delta\n",
    "Čo keď chcem timestampy odpočítavať?\n",
    "\n",
    "Timedelta ako dátový typ sa nachádza aj v pythone nie len v pandase !!!"
   ]
  },
  {
   "cell_type": "code",
   "execution_count": 27,
   "id": "854f3a6f-6576-47eb-a991-400c32c3a51a",
   "metadata": {},
   "outputs": [
    {
     "data": {
      "text/plain": [
       "Timedelta('0 days 00:00:00.000000010')"
      ]
     },
     "execution_count": 27,
     "metadata": {},
     "output_type": "execute_result"
    }
   ],
   "source": [
    "x = pd.Timestamp(year=2020, month=6, day=9, hour=8, minute=30, second=20, microsecond=79, nanosecond=99)\n",
    "y = pd.Timestamp(year=2020, month=6, day=9, hour=8, minute=30, second=20, microsecond=79, nanosecond=89)\n",
    "result=x-y\n",
    "result"
   ]
  },
  {
   "cell_type": "code",
   "execution_count": 30,
   "id": "90d7dbd7-c93d-4fdd-a6b8-033566ef0cdb",
   "metadata": {},
   "outputs": [
    {
     "data": {
      "text/plain": [
       "Timedelta('-1 days +23:59:59.999999990')"
      ]
     },
     "execution_count": 30,
     "metadata": {},
     "output_type": "execute_result"
    }
   ],
   "source": [
    "#zaporna TD:\n",
    "y-x"
   ]
  },
  {
   "cell_type": "code",
   "execution_count": 33,
   "id": "52aa334b-1461-49d6-ac1f-cb3af5a52359",
   "metadata": {},
   "outputs": [
    {
     "data": {
      "text/plain": [
       "Timedelta('1 days 00:42:00')"
      ]
     },
     "execution_count": 33,
     "metadata": {},
     "output_type": "execute_result"
    }
   ],
   "source": [
    "# konstruktor timedelta v pandas\n",
    "td1 = pd.Timedelta(\"1 days 00:42:00\") # len pomocou stringu \n",
    "td1"
   ]
  },
  {
   "cell_type": "code",
   "execution_count": 34,
   "id": "de67575b-4f62-4c94-a6d7-f85909d65c90",
   "metadata": {},
   "outputs": [
    {
     "name": "stdout",
     "output_type": "stream",
     "text": [
      "55 days, 1:00:21.992006\n"
     ]
    },
    {
     "data": {
      "text/plain": [
       "Timedelta('56 days 01:42:21.992006')"
      ]
     },
     "execution_count": 34,
     "metadata": {},
     "output_type": "execute_result"
    }
   ],
   "source": [
    "# Konstruktor v pythone \n",
    "from datetime import timedelta\n",
    "\n",
    "td2 = timedelta(days=55, seconds=3621, microseconds=992006)\n",
    "print(td2)\n",
    "\n",
    "td1 + td2"
   ]
  },
  {
   "cell_type": "code",
   "execution_count": 35,
   "id": "29263e78-e96e-4a36-a540-e80007ba06bd",
   "metadata": {},
   "outputs": [
    {
     "data": {
      "text/plain": [
       "Timestamp('2022-04-08 12:43:27.312231')"
      ]
     },
     "execution_count": 35,
     "metadata": {},
     "output_type": "execute_result"
    }
   ],
   "source": [
    "ts = pd.Timestamp(dt.now())\n",
    "ts"
   ]
  },
  {
   "cell_type": "code",
   "execution_count": 36,
   "id": "e825e46d-1f7f-40e3-be66-9dd93aebaa6b",
   "metadata": {},
   "outputs": [
    {
     "data": {
      "text/plain": [
       "Timestamp('2022-06-02 13:43:49.304237')"
      ]
     },
     "execution_count": 36,
     "metadata": {},
     "output_type": "execute_result"
    }
   ],
   "source": [
    "ts + td2"
   ]
  },
  {
   "cell_type": "code",
   "execution_count": 38,
   "id": "c8d908e5-6fb6-42c6-871d-6ef24dd8adf1",
   "metadata": {},
   "outputs": [
    {
     "data": {
      "text/plain": [
       "0       2019-01-07 10:40:14.786006\n",
       "1       2019-01-07 10:40:14.805006\n",
       "2       2019-01-07 10:40:14.832006\n",
       "3       2019-01-07 10:40:16.792006\n",
       "4       2019-01-07 10:40:16.859006\n",
       "                   ...            \n",
       "10416   2019-01-07 11:00:58.864006\n",
       "10417   2019-01-07 11:00:58.948006\n",
       "10418   2019-01-07 11:00:58.981006\n",
       "10419   2019-01-07 11:00:59.029006\n",
       "10420   2019-01-07 11:00:59.046006\n",
       "Name: timestamp, Length: 10421, dtype: datetime64[ns]"
      ]
     },
     "execution_count": 38,
     "metadata": {},
     "output_type": "execute_result"
    }
   ],
   "source": [
    "df.timestamp + td2 # vector + scalar = bradcast"
   ]
  },
  {
   "cell_type": "code",
   "execution_count": null,
   "id": "2f74ed09-66e9-4702-b145-3cce5e42f051",
   "metadata": {},
   "outputs": [],
   "source": []
  }
 ],
 "metadata": {
  "kernelspec": {
   "display_name": "Python 3 (ipykernel)",
   "language": "python",
   "name": "python3"
  },
  "language_info": {
   "codemirror_mode": {
    "name": "ipython",
    "version": 3
   },
   "file_extension": ".py",
   "mimetype": "text/x-python",
   "name": "python",
   "nbconvert_exporter": "python",
   "pygments_lexer": "ipython3",
   "version": "3.10.3"
  }
 },
 "nbformat": 4,
 "nbformat_minor": 5
}
